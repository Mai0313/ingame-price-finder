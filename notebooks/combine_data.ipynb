{
 "cells": [
  {
   "cell_type": "code",
   "execution_count": null,
   "metadata": {},
   "outputs": [],
   "source": [
    "import os\n",
    "import re\n",
    "from pathlib import Path\n",
    "\n",
    "import orjson\n",
    "import pandas as pd\n",
    "from deep_translator import GoogleTranslator\n",
    "\n",
    "\n",
    "def extract_data(root_path: str):\n",
    "    filenames = Path(root_path).rglob(\"*.csv\")\n",
    "    game_info = pd.DataFrame()\n",
    "    for filename in filenames:\n",
    "        data = pd.read_csv(filename)\n",
    "        data = data.dropna(subset=[\"Name\"])\n",
    "        game_info = pd.concat([game_info, data], axis=0)\n",
    "\n",
    "    filenames = Path(root_path).rglob(\"*.csv\")\n",
    "    parent_dir = Path(root_path).parent\n",
    "    output_path = f\"./{parent_dir}/final_data\"\n",
    "    os.makedirs(output_path, exist_ok=True)\n",
    "    data = pd.concat([pd.read_csv(filename) for filename in filenames], ignore_index=True)\n",
    "    groups = data.groupby(\"Name\")\n",
    "\n",
    "    search_dict = {}\n",
    "    for name, group in groups:\n",
    "        group = group.dropna()\n",
    "        cleaned_name = re.sub(r\"[^\\w\\s]\", \"\", name)\n",
    "        cleaned_name = re.sub(r\"\\s+\", \"_\", cleaned_name)\n",
    "        search_dict[name] = cleaned_name\n",
    "        group.to_csv(f\"./{output_path}/{cleaned_name}.csv\", index=False)\n",
    "    search_dict = orjson.dumps(search_dict)\n",
    "    with open(\"./data/search_dict.json\", \"wb\") as f:\n",
    "        f.write(search_dict)\n",
    "\n",
    "\n",
    "root_path = \"./data/price_details\"\n",
    "extract_data(root_path)"
   ]
  },
  {
   "cell_type": "code",
   "execution_count": null,
   "metadata": {},
   "outputs": [],
   "source": [
    "import orjson\n",
    "\n",
    "with open(\"./data/search_dict.json\", \"rb\") as f:\n",
    "    search_dict = orjson.loads(f.read())  # type: dict[str, str]\n",
    "list(search_dict.keys())"
   ]
  },
  {
   "cell_type": "code",
   "execution_count": null,
   "metadata": {},
   "outputs": [],
   "source": [
    "from deep_translator import GoogleTranslator\n",
    "\n",
    "translated = GoogleTranslator(source=\"auto\", target=\"zh-TW\").translate(\"NA\")\n",
    "translated"
   ]
  }
 ],
 "metadata": {
  "kernelspec": {
   "display_name": "buy",
   "language": "python",
   "name": "python3"
  },
  "language_info": {
   "codemirror_mode": {
    "name": "ipython",
    "version": 3
   },
   "file_extension": ".py",
   "mimetype": "text/x-python",
   "name": "python",
   "nbconvert_exporter": "python",
   "pygments_lexer": "ipython3",
   "version": "3.9.15"
  }
 },
 "nbformat": 4,
 "nbformat_minor": 2
}
