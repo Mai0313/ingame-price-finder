{
 "cells": [
  {
   "cell_type": "code",
   "execution_count": null,
   "metadata": {},
   "outputs": [],
   "source": [
    "import pandas as pd\n",
    "from google_play_scraper import search\n",
    "\n",
    "\n",
    "def search_and_process(app_id):\n",
    "    game_info = search(app_id, lang=\"zh-TW\", country=\"us\", n_hits=3)\n",
    "    game_data = pd.DataFrame(game_info)\n",
    "    game_data = game_data.drop(\n",
    "        [\n",
    "            \"genre\",\n",
    "            \"price\",\n",
    "            \"free\",\n",
    "            \"currency\",\n",
    "            \"video\",\n",
    "            \"videoImage\",\n",
    "            \"descriptionHTML\",\n",
    "            \"installs\",\n",
    "            \"developer\",\n",
    "        ],\n",
    "        axis=1,\n",
    "    )\n",
    "    game_data = game_data.rename(columns={\"appId\": \"packageId\", \"title\": \"name\"})\n",
    "    return game_data\n",
    "\n",
    "\n",
    "def merge_and_save(selected_index, game_data):\n",
    "    selected_game_data = game_data.iloc[[selected_index]].drop([\"score\", \"description\"], axis=1)\n",
    "    original_game_data = pd.read_csv(\"./configs/game_data.csv\")\n",
    "    merged_data = pd.concat([original_game_data, selected_game_data], ignore_index=True)\n",
    "    merged_data.to_csv(\"./configs/game_data.csv\", index=False)\n",
    "    return merged_data"
   ]
  },
  {
   "cell_type": "code",
   "execution_count": null,
   "metadata": {},
   "outputs": [],
   "source": [
    "search_and_process(\"com.spotify.music\")[\"screenshots\"].to_numpy()[0]"
   ]
  },
  {
   "cell_type": "code",
   "execution_count": null,
   "metadata": {},
   "outputs": [],
   "source": [
    "import pandas as pd\n",
    "\n",
    "original_game_data = pd.read_csv(\"../configs/game_data.csv\")\n",
    "original_game_data.iloc[[0]]\n",
    "# original_game_data"
   ]
  }
 ],
 "metadata": {
  "kernelspec": {
   "display_name": "buy",
   "language": "python",
   "name": "python3"
  },
  "language_info": {
   "codemirror_mode": {
    "name": "ipython",
    "version": 3
   },
   "file_extension": ".py",
   "mimetype": "text/x-python",
   "name": "python",
   "nbconvert_exporter": "python",
   "pygments_lexer": "ipython3",
   "version": "3.9.15"
  }
 },
 "nbformat": 4,
 "nbformat_minor": 2
}
